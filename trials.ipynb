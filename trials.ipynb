{
 "cells": [
  {
   "cell_type": "code",
   "execution_count": 1,
   "id": "979ab0ba",
   "metadata": {},
   "outputs": [
    {
     "name": "stdout",
     "output_type": "stream",
     "text": [
      "OK\n"
     ]
    }
   ],
   "source": [
    "print(\"OK\")"
   ]
  },
  {
   "cell_type": "code",
   "execution_count": 2,
   "id": "6c101c1f",
   "metadata": {},
   "outputs": [
    {
     "name": "stderr",
     "output_type": "stream",
     "text": [
      "/opt/anaconda3/envs/mchatbot/lib/python3.8/site-packages/pinecone/data/index.py:1: TqdmWarning: IProgress not found. Please update jupyter and ipywidgets. See https://ipywidgets.readthedocs.io/en/stable/user_install.html\n",
      "  from tqdm.autonotebook import tqdm\n"
     ]
    }
   ],
   "source": [
    "from langchain import PromptTemplate\n",
    "from langchain.chains import RetrievalQA\n",
    "from langchain.embeddings import HuggingFaceEmbeddings\n",
    "from langchain.vectorstores import Pinecone\n",
    "import pinecone\n",
    "from langchain.document_loaders import PyPDFLoader, DirectoryLoader\n",
    "from langchain.text_splitter import RecursiveCharacterTextSplitter\n",
    "from langchain.prompts import PromptTemplate\n",
    "from langchain.llms import CTransformers"
   ]
  },
  {
   "cell_type": "code",
   "execution_count": 3,
   "id": "0c59ac65",
   "metadata": {},
   "outputs": [],
   "source": [
    "# Extract data from PDF\n",
    "def load_pdf(data):\n",
    "    loader = DirectoryLoader(data, \n",
    "                    glob=\"*.pdf\", # meaning, get all the pdf from the data directory\n",
    "                    loader_cls=PyPDFLoader)\n",
    "    documents = loader.load()\n",
    "    return documents"
   ]
  },
  {
   "cell_type": "code",
   "execution_count": 5,
   "id": "2e390438",
   "metadata": {},
   "outputs": [],
   "source": [
    "extracted_data = load_pdf(\"data/\")"
   ]
  },
  {
   "cell_type": "code",
   "execution_count": 9,
   "id": "9586af73",
   "metadata": {},
   "outputs": [
    {
     "data": {
      "text/plain": [
       "637"
      ]
     },
     "execution_count": 9,
     "metadata": {},
     "output_type": "execute_result"
    }
   ],
   "source": [
    "len(extracted_data)"
   ]
  },
  {
   "cell_type": "code",
   "execution_count": 10,
   "id": "d34d0c9d",
   "metadata": {},
   "outputs": [
    {
     "data": {
      "text/plain": [
       "list"
      ]
     },
     "execution_count": 10,
     "metadata": {},
     "output_type": "execute_result"
    }
   ],
   "source": [
    "type(extracted_data)"
   ]
  },
  {
   "cell_type": "code",
   "execution_count": 11,
   "id": "b0e59d75",
   "metadata": {},
   "outputs": [],
   "source": [
    "# Create text chunks \n",
    "def text_split(extracted_data):\n",
    "    text_splitter = RecursiveCharacterTextSplitter(chunk_size = 500, \n",
    "                                   chunk_overlap = 20)\n",
    "    text_chunks = text_splitter.split_documents(extracted_data)\n",
    "    return text_chunks"
   ]
  },
  {
   "cell_type": "code",
   "execution_count": 12,
   "id": "69fdea97",
   "metadata": {},
   "outputs": [],
   "source": [
    "text_chunks = text_split(extracted_data)"
   ]
  },
  {
   "cell_type": "code",
   "execution_count": 13,
   "id": "9d41fa2d",
   "metadata": {},
   "outputs": [
    {
     "data": {
      "text/plain": [
       "5859"
      ]
     },
     "execution_count": 13,
     "metadata": {},
     "output_type": "execute_result"
    }
   ],
   "source": [
    "len(text_chunks)"
   ]
  },
  {
   "cell_type": "code",
   "execution_count": null,
   "id": "094669fe",
   "metadata": {},
   "outputs": [
    {
     "data": {
      "text/plain": [
       "Document(page_content='<http://www.cdc.gov/niosh/w7_high.html>.\\nMaureen Haggerty\\nGALE ENCYCLOPEDIA OF MEDICINE 2 623\\nByssinosis\\nGEM -0433 to 0624 - B  10/22/03 6:09 PM  Page 623', metadata={'source': 'data/Medical_book.pdf', 'page': 636})"
      ]
     },
     "execution_count": 15,
     "metadata": {},
     "output_type": "execute_result"
    }
   ],
   "source": [
    "text_chunks"
   ]
  },
  {
   "cell_type": "code",
   "execution_count": 18,
   "id": "93ce95c6",
   "metadata": {},
   "outputs": [],
   "source": [
    "# download embedding model  \n",
    "def download_hugging_face_embeddings():\n",
    "    embeddings = HuggingFaceEmbeddings(model_name=\"sentence-transformers/all-MiniLM-L6-v2\")\n",
    "    return embeddings"
   ]
  },
  {
   "cell_type": "code",
   "execution_count": 20,
   "id": "d042341c",
   "metadata": {},
   "outputs": [],
   "source": [
    "embeddings = download_hugging_face_embeddings()"
   ]
  },
  {
   "cell_type": "code",
   "execution_count": 21,
   "id": "c559eeab",
   "metadata": {},
   "outputs": [
    {
     "data": {
      "text/plain": [
       "HuggingFaceEmbeddings(client=SentenceTransformer(\n",
       "  (0): Transformer({'max_seq_length': 256, 'do_lower_case': False}) with Transformer model: BertModel \n",
       "  (1): Pooling({'word_embedding_dimension': 384, 'pooling_mode_cls_token': False, 'pooling_mode_mean_tokens': True, 'pooling_mode_max_tokens': False, 'pooling_mode_mean_sqrt_len_tokens': False, 'pooling_mode_weightedmean_tokens': False, 'pooling_mode_lasttoken': False, 'include_prompt': True})\n",
       "  (2): Normalize()\n",
       "), model_name='sentence-transformers/all-MiniLM-L6-v2', cache_folder=None, model_kwargs={}, encode_kwargs={})"
      ]
     },
     "execution_count": 21,
     "metadata": {},
     "output_type": "execute_result"
    }
   ],
   "source": [
    "embeddings"
   ]
  },
  {
   "cell_type": "code",
   "execution_count": 22,
   "id": "e1f543c6",
   "metadata": {},
   "outputs": [
    {
     "name": "stdout",
     "output_type": "stream",
     "text": [
      "384\n"
     ]
    }
   ],
   "source": [
    "query_result = embeddings.embed_query(\"Hello World\")\n",
    "print(len(query_result))"
   ]
  },
  {
   "cell_type": "code",
   "execution_count": 23,
   "id": "1bbaaa38",
   "metadata": {},
   "outputs": [
    {
     "data": {
      "text/plain": [
       "[-0.034477271139621735,\n",
       " 0.031023181974887848,\n",
       " 0.0067349583841860294,\n",
       " 0.026109008118510246,\n",
       " -0.03936202451586723,\n",
       " -0.16030247509479523,\n",
       " 0.06692396104335785,\n",
       " -0.006441452540457249,\n",
       " -0.04745050147175789,\n",
       " 0.014758880250155926,\n",
       " 0.07087534666061401,\n",
       " 0.05552754923701286,\n",
       " 0.019193293526768684,\n",
       " -0.026251323521137238,\n",
       " -0.010109510272741318,\n",
       " -0.026940520852804184,\n",
       " 0.02230743132531643,\n",
       " -0.02222662977874279,\n",
       " -0.1496926099061966,\n",
       " -0.017493100836873055,\n",
       " 0.007676210254430771,\n",
       " 0.05435231328010559,\n",
       " 0.0032544685527682304,\n",
       " 0.03172597289085388,\n",
       " -0.08462142944335938,\n",
       " -0.029405977576971054,\n",
       " 0.05159565433859825,\n",
       " 0.0481240376830101,\n",
       " -0.003314815228804946,\n",
       " -0.05827919393777847,\n",
       " 0.04196927696466446,\n",
       " 0.022210722789168358,\n",
       " 0.128188818693161,\n",
       " -0.022338902577757835,\n",
       " -0.011656270362436771,\n",
       " 0.06292837858200073,\n",
       " -0.032876309007406235,\n",
       " -0.09122607111930847,\n",
       " -0.031175294890999794,\n",
       " 0.052699554711580276,\n",
       " 0.047034814953804016,\n",
       " -0.08420305699110031,\n",
       " -0.030056182295084,\n",
       " -0.020744841545820236,\n",
       " 0.009517810307443142,\n",
       " -0.0037217482458800077,\n",
       " 0.007343311328440905,\n",
       " 0.03932434692978859,\n",
       " 0.09327404946088791,\n",
       " -0.003788595087826252,\n",
       " -0.05274205654859543,\n",
       " -0.05805819109082222,\n",
       " -0.006864375900477171,\n",
       " 0.005283243488520384,\n",
       " 0.0828929916024208,\n",
       " 0.019362758845090866,\n",
       " 0.006284472532570362,\n",
       " -0.010330778546631336,\n",
       " 0.009032364934682846,\n",
       " -0.03768378496170044,\n",
       " -0.045206084847450256,\n",
       " 0.024016357958316803,\n",
       " -0.006944147404283285,\n",
       " 0.013491624966263771,\n",
       " 0.10005497187376022,\n",
       " -0.0716838464140892,\n",
       " -0.021695032715797424,\n",
       " 0.031618501991033554,\n",
       " -0.05163463577628136,\n",
       " -0.08224768936634064,\n",
       " -0.06569333374500275,\n",
       " -0.009895370341837406,\n",
       " 0.005816430319100618,\n",
       " 0.07355458289384842,\n",
       " -0.03405030816793442,\n",
       " 0.02488608844578266,\n",
       " 0.014488070271909237,\n",
       " 0.026457348838448524,\n",
       " 0.00965671706944704,\n",
       " 0.03021734580397606,\n",
       " 0.05280396714806557,\n",
       " -0.07535991817712784,\n",
       " 0.00989717897027731,\n",
       " 0.02983684465289116,\n",
       " 0.01755557395517826,\n",
       " 0.02309194952249527,\n",
       " 0.0019338467391207814,\n",
       " 0.0014001814415678382,\n",
       " -0.04717596247792244,\n",
       " -0.01119434554129839,\n",
       " -0.11420134454965591,\n",
       " -0.01981195993721485,\n",
       " 0.040266253054142,\n",
       " 0.0021930336952209473,\n",
       " -0.07979222387075424,\n",
       " -0.02538233995437622,\n",
       " 0.09448293596506119,\n",
       " -0.02898111753165722,\n",
       " -0.14500248432159424,\n",
       " 0.2309773564338684,\n",
       " 0.02773112617433071,\n",
       " 0.032111432403326035,\n",
       " 0.031065046787261963,\n",
       " 0.042832862585783005,\n",
       " 0.06423782557249069,\n",
       " 0.03216315433382988,\n",
       " -0.004876710940152407,\n",
       " 0.055699460208415985,\n",
       " -0.03753238543868065,\n",
       " -0.021505581215023994,\n",
       " -0.028342697769403458,\n",
       " -0.028846874833106995,\n",
       " 0.0383530929684639,\n",
       " -0.017468659207224846,\n",
       " 0.05248528718948364,\n",
       " -0.07487604767084122,\n",
       " -0.031259745359420776,\n",
       " 0.02184155583381653,\n",
       " -0.03989565744996071,\n",
       " -0.008587086573243141,\n",
       " 0.0269565861672163,\n",
       " -0.04849551245570183,\n",
       " 0.011469884775578976,\n",
       " 0.0296182781457901,\n",
       " -0.020572196692228317,\n",
       " 0.013103841803967953,\n",
       " 0.028833426535129547,\n",
       " -3.1942001868481724e-33,\n",
       " 0.06478201597929001,\n",
       " -0.018130239099264145,\n",
       " 0.05178994685411453,\n",
       " 0.12198272347450256,\n",
       " 0.02878015674650669,\n",
       " 0.00872204452753067,\n",
       " -0.07052116841077805,\n",
       " -0.016907287761569023,\n",
       " 0.040739741176366806,\n",
       " 0.0421161875128746,\n",
       " 0.025447210296988487,\n",
       " 0.035746265202760696,\n",
       " -0.049144767224788666,\n",
       " 0.002129081403836608,\n",
       " -0.015546569600701332,\n",
       " 0.05073057860136032,\n",
       " -0.048185285180807114,\n",
       " 0.035880640149116516,\n",
       " -0.0040670172311365604,\n",
       " 0.10172473639249802,\n",
       " -0.05597003921866417,\n",
       " -0.010681046172976494,\n",
       " 0.011235815472900867,\n",
       " 0.09068649262189865,\n",
       " 0.004234480205923319,\n",
       " 0.03513867035508156,\n",
       " -0.00970281008630991,\n",
       " -0.09386520087718964,\n",
       " 0.09285557270050049,\n",
       " 0.00800496805459261,\n",
       " -0.007705458905547857,\n",
       " -0.052086737006902695,\n",
       " -0.012587961740791798,\n",
       " 0.0032669217325747013,\n",
       " 0.006013511214405298,\n",
       " 0.007581599522382021,\n",
       " 0.010517177172005177,\n",
       " -0.08634550869464874,\n",
       " -0.06987880170345306,\n",
       " -0.002533847000449896,\n",
       " -0.09097655117511749,\n",
       " 0.04688731208443642,\n",
       " 0.05207647383213043,\n",
       " 0.007193895988166332,\n",
       " 0.010903612710535526,\n",
       " -0.00522951502352953,\n",
       " 0.01393734198063612,\n",
       " 0.021968340501189232,\n",
       " 0.034208543598651886,\n",
       " 0.06022468954324722,\n",
       " 0.0001166833026218228,\n",
       " 0.014731934294104576,\n",
       " -0.07008921355009079,\n",
       " 0.02849903516471386,\n",
       " -0.027601614594459534,\n",
       " 0.010768409818410873,\n",
       " 0.03483098745346069,\n",
       " -0.022487878799438477,\n",
       " 0.009769066236913204,\n",
       " 0.07722780853509903,\n",
       " 0.021588364616036415,\n",
       " 0.11495622247457504,\n",
       " -0.0680011659860611,\n",
       " 0.023760981857776642,\n",
       " -0.015983959659934044,\n",
       " -0.017826994881033897,\n",
       " 0.06439492851495743,\n",
       " 0.032025787979364395,\n",
       " 0.05027027055621147,\n",
       " -0.005913737695664167,\n",
       " -0.033708032220602036,\n",
       " 0.017840353772044182,\n",
       " 0.016573389992117882,\n",
       " 0.06329655647277832,\n",
       " 0.03467719256877899,\n",
       " 0.04647340998053551,\n",
       " 0.09790614992380142,\n",
       " -0.006635465193539858,\n",
       " 0.025207025930285454,\n",
       " -0.07798833400011063,\n",
       " 0.016926409676671028,\n",
       " -0.000945812847930938,\n",
       " 0.022471871227025986,\n",
       " -0.03825325891375542,\n",
       " 0.09570477902889252,\n",
       " -0.005350745283067226,\n",
       " 0.010469049215316772,\n",
       " -0.11524058133363724,\n",
       " -0.013262493535876274,\n",
       " -0.010709422640502453,\n",
       " -0.08311724662780762,\n",
       " 0.07327356934547424,\n",
       " 0.0493922233581543,\n",
       " -0.008994391188025475,\n",
       " -0.09584559500217438,\n",
       " 3.3661496637765335e-33,\n",
       " 0.12493180483579636,\n",
       " 0.019349725916981697,\n",
       " -0.05822572484612465,\n",
       " -0.035988230258226395,\n",
       " -0.05074680969119072,\n",
       " -0.04566238820552826,\n",
       " -0.08260343223810196,\n",
       " 0.14819476008415222,\n",
       " -0.08842116594314575,\n",
       " 0.060274455696344376,\n",
       " 0.05103021487593651,\n",
       " 0.010303153656423092,\n",
       " 0.14121423661708832,\n",
       " 0.03081381693482399,\n",
       " 0.06103309243917465,\n",
       " -0.05285125970840454,\n",
       " 0.13664889335632324,\n",
       " 0.009189879521727562,\n",
       " -0.017325233668088913,\n",
       " -0.012848644517362118,\n",
       " -0.007995273917913437,\n",
       " -0.05098007619380951,\n",
       " -0.05235062539577484,\n",
       " 0.007593054790049791,\n",
       " -0.0151663264259696,\n",
       " 0.01696033403277397,\n",
       " 0.021270543336868286,\n",
       " 0.020557980984449387,\n",
       " -0.1200280487537384,\n",
       " 0.014461816288530827,\n",
       " 0.0267599169164896,\n",
       " 0.025330595672130585,\n",
       " -0.04275466501712799,\n",
       " 0.006768386345356703,\n",
       " -0.014458590187132359,\n",
       " 0.04526200145483017,\n",
       " -0.09147654473781586,\n",
       " -0.019439129158854485,\n",
       " -0.01783347874879837,\n",
       " -0.054910074919462204,\n",
       " -0.052641063928604126,\n",
       " -0.01045902632176876,\n",
       " -0.05201603099703789,\n",
       " 0.020892061293125153,\n",
       " -0.0799703523516655,\n",
       " -0.012111322954297066,\n",
       " -0.05773138254880905,\n",
       " 0.02317824773490429,\n",
       " -0.008031628094613552,\n",
       " -0.02598927542567253,\n",
       " -0.07995668798685074,\n",
       " -0.020728828385472298,\n",
       " 0.048817746341228485,\n",
       " -0.02038915641605854,\n",
       " -0.04917661473155022,\n",
       " 0.014159640297293663,\n",
       " -0.06362210214138031,\n",
       " -0.0078073968179523945,\n",
       " 0.016431529074907303,\n",
       " -0.02568252757191658,\n",
       " 0.013381090946495533,\n",
       " 0.026248736307024956,\n",
       " 0.0099783381447196,\n",
       " 0.06322890520095825,\n",
       " 0.0026721032336354256,\n",
       " -0.0065828063525259495,\n",
       " 0.016631992533802986,\n",
       " 0.03236643970012665,\n",
       " 0.037942495197057724,\n",
       " -0.03637603670358658,\n",
       " -0.006910938303917646,\n",
       " 0.00015967455692589283,\n",
       " -0.0016335948603227735,\n",
       " -0.02727818861603737,\n",
       " -0.02803804725408554,\n",
       " 0.04968152195215225,\n",
       " -0.02886718325316906,\n",
       " -0.002418024931102991,\n",
       " 0.014774897135794163,\n",
       " 0.009764544665813446,\n",
       " 0.0057975733652710915,\n",
       " 0.013486113399267197,\n",
       " 0.005567922722548246,\n",
       " 0.03722705692052841,\n",
       " 0.007232497446238995,\n",
       " 0.04015624150633812,\n",
       " 0.0815032422542572,\n",
       " 0.07199162989854813,\n",
       " -0.013056165538728237,\n",
       " -0.04288208484649658,\n",
       " -0.011011237278580666,\n",
       " 0.004897758364677429,\n",
       " -0.009229692630469799,\n",
       " 0.035191476345062256,\n",
       " -0.05103503167629242,\n",
       " -1.5714372025854573e-08,\n",
       " -0.08862439543008804,\n",
       " 0.023909304291009903,\n",
       " -0.016238726675510406,\n",
       " 0.03170046955347061,\n",
       " 0.027284201234579086,\n",
       " 0.05246877297759056,\n",
       " -0.04707098379731178,\n",
       " -0.05884743109345436,\n",
       " -0.06320822238922119,\n",
       " 0.04088851436972618,\n",
       " 0.04982792213559151,\n",
       " 0.10655168443918228,\n",
       " -0.07450231909751892,\n",
       " -0.012495423667132854,\n",
       " 0.01837068796157837,\n",
       " 0.03947410359978676,\n",
       " -0.024797886610031128,\n",
       " 0.014516260474920273,\n",
       " -0.037069179117679596,\n",
       " 0.020015737041831017,\n",
       " -4.858031388721429e-05,\n",
       " 0.009866522625088692,\n",
       " 0.024838807061314583,\n",
       " -0.05245814099907875,\n",
       " 0.029314162209630013,\n",
       " -0.08719190210103989,\n",
       " -0.014499815180897713,\n",
       " 0.026019060984253883,\n",
       " -0.018746392801404,\n",
       " -0.07620515674352646,\n",
       " 0.035043276846408844,\n",
       " 0.10363951325416565,\n",
       " -0.028050532564520836,\n",
       " 0.012718179263174534,\n",
       " -0.07632554322481155,\n",
       " -0.01865237019956112,\n",
       " 0.02497672103345394,\n",
       " 0.0814453512430191,\n",
       " 0.06875892728567123,\n",
       " -0.06405659765005112,\n",
       " -0.08389391750097275,\n",
       " 0.061362382024526596,\n",
       " -0.033545561134815216,\n",
       " -0.10615338385105133,\n",
       " -0.04008059948682785,\n",
       " 0.03253019228577614,\n",
       " 0.07662487030029297,\n",
       " -0.07301613688468933,\n",
       " 0.0003376078966539353,\n",
       " -0.040871575474739075,\n",
       " -0.07578852772712708,\n",
       " 0.02752765826880932,\n",
       " 0.07462545484304428,\n",
       " 0.017717311158776283,\n",
       " 0.09121841937303543,\n",
       " 0.11022016406059265,\n",
       " 0.0005698179011233151,\n",
       " 0.05146332085132599,\n",
       " -0.014551309868693352,\n",
       " 0.03323199599981308,\n",
       " 0.02379225194454193,\n",
       " -0.022889835759997368,\n",
       " 0.0389375276863575,\n",
       " 0.030206795781850815]"
      ]
     },
     "execution_count": 23,
     "metadata": {},
     "output_type": "execute_result"
    }
   ],
   "source": [
    "query_result"
   ]
  },
  {
   "cell_type": "code",
   "execution_count": 27,
   "id": "3f1a71cf",
   "metadata": {},
   "outputs": [
    {
     "name": "stderr",
     "output_type": "stream",
     "text": [
      "huggingface/tokenizers: The current process just got forked, after parallelism has already been used. Disabling parallelism to avoid deadlocks...\n",
      "To disable this warning, you can either:\n",
      "\t- Avoid using `tokenizers` before the fork if possible\n",
      "\t- Explicitly set the environment variable TOKENIZERS_PARALLELISM=(true | false)\n"
     ]
    },
    {
     "name": "stdout",
     "output_type": "stream",
     "text": [
      "Collecting python-dotenv\n",
      "  Using cached python_dotenv-1.0.1-py3-none-any.whl.metadata (23 kB)\n",
      "Using cached python_dotenv-1.0.1-py3-none-any.whl (19 kB)\n",
      "Installing collected packages: python-dotenv\n",
      "Successfully installed python-dotenv-1.0.1\n"
     ]
    }
   ],
   "source": [
    "!pip install python-dotenv"
   ]
  },
  {
   "cell_type": "code",
   "execution_count": 29,
   "id": "61468ec2",
   "metadata": {},
   "outputs": [],
   "source": [
    "import os \n",
    "import dotenv\n",
    "from dotenv import load_dotenv\n",
    "load_dotenv()\n",
    "PINECONE_API = os.getenv(\"PINECONE_API_KEY\")  \n",
    "PINECONE_ENV = os.getenv(\"PINECONE_API_ENV\")"
   ]
  },
  {
   "cell_type": "code",
   "execution_count": 34,
   "id": "7f9621cf",
   "metadata": {},
   "outputs": [
    {
     "ename": "AttributeError",
     "evalue": "list_indexes is no longer a top-level attribute of the pinecone package.\n\nTo use list_indexes, please create a client instance and call the method there instead.\n\nExample:\n\n    from pinecone import Pinecone\n    \n    pc = Pinecone(api_key='YOUR_API_KEY')\n\n    index_name = \"quickstart\" # or your index name\n\n    if index_name not in pc.list_indexes().names():\n        # do something\n\n",
     "output_type": "error",
     "traceback": [
      "\u001b[0;31m---------------------------------------------------------------------------\u001b[0m",
      "\u001b[0;31mAttributeError\u001b[0m                            Traceback (most recent call last)",
      "Cell \u001b[0;32mIn[34], line 23\u001b[0m\n\u001b[1;32m     12\u001b[0m     pc\u001b[38;5;241m.\u001b[39mcreate_index(\n\u001b[1;32m     13\u001b[0m         name\u001b[38;5;241m=\u001b[39mindex_name,\n\u001b[1;32m     14\u001b[0m         dimension\u001b[38;5;241m=\u001b[39m\u001b[38;5;241m1536\u001b[39m,  \u001b[38;5;66;03m# Must match your embeddings dimension\u001b[39;00m\n\u001b[0;32m   (...)\u001b[0m\n\u001b[1;32m     19\u001b[0m         )\n\u001b[1;32m     20\u001b[0m     )\n\u001b[1;32m     22\u001b[0m \u001b[38;5;66;03m# LangChain integration - modified to use the new client\u001b[39;00m\n\u001b[0;32m---> 23\u001b[0m docsearch \u001b[38;5;241m=\u001b[39m \u001b[43mPineconeLangchain\u001b[49m\u001b[38;5;241;43m.\u001b[39;49m\u001b[43mfrom_texts\u001b[49m\u001b[43m(\u001b[49m\n\u001b[1;32m     24\u001b[0m \u001b[43m    \u001b[49m\u001b[43mtexts\u001b[49m\u001b[38;5;241;43m=\u001b[39;49m\u001b[43m[\u001b[49m\u001b[43mt\u001b[49m\u001b[38;5;241;43m.\u001b[39;49m\u001b[43mpage_content\u001b[49m\u001b[43m \u001b[49m\u001b[38;5;28;43;01mfor\u001b[39;49;00m\u001b[43m \u001b[49m\u001b[43mt\u001b[49m\u001b[43m \u001b[49m\u001b[38;5;129;43;01min\u001b[39;49;00m\u001b[43m \u001b[49m\u001b[43mtext_chunks\u001b[49m\u001b[43m]\u001b[49m\u001b[43m,\u001b[49m\n\u001b[1;32m     25\u001b[0m \u001b[43m    \u001b[49m\u001b[43membedding\u001b[49m\u001b[38;5;241;43m=\u001b[39;49m\u001b[43membeddings\u001b[49m\u001b[43m,\u001b[49m\n\u001b[1;32m     26\u001b[0m \u001b[43m    \u001b[49m\u001b[43mindex_name\u001b[49m\u001b[38;5;241;43m=\u001b[39;49m\u001b[43mindex_name\u001b[49m\u001b[43m,\u001b[49m\n\u001b[1;32m     27\u001b[0m \u001b[43m    \u001b[49m\u001b[43mpinecone_client\u001b[49m\u001b[38;5;241;43m=\u001b[39;49m\u001b[43mpc\u001b[49m\u001b[43m  \u001b[49m\u001b[38;5;66;43;03m# Pass the initialized client\u001b[39;49;00m\n\u001b[1;32m     28\u001b[0m \u001b[43m)\u001b[49m\n",
      "File \u001b[0;32m/opt/anaconda3/envs/mchatbot/lib/python3.8/site-packages/langchain/vectorstores/pinecone.py:296\u001b[0m, in \u001b[0;36mPinecone.from_texts\u001b[0;34m(cls, texts, embedding, metadatas, ids, batch_size, text_key, index_name, namespace, **kwargs)\u001b[0m\n\u001b[1;32m    290\u001b[0m \u001b[38;5;28;01mexcept\u001b[39;00m \u001b[38;5;167;01mImportError\u001b[39;00m:\n\u001b[1;32m    291\u001b[0m     \u001b[38;5;28;01mraise\u001b[39;00m \u001b[38;5;167;01mValueError\u001b[39;00m(\n\u001b[1;32m    292\u001b[0m         \u001b[38;5;124m\"\u001b[39m\u001b[38;5;124mCould not import pinecone python package. \u001b[39m\u001b[38;5;124m\"\u001b[39m\n\u001b[1;32m    293\u001b[0m         \u001b[38;5;124m\"\u001b[39m\u001b[38;5;124mPlease install it with `pip install pinecone-client`.\u001b[39m\u001b[38;5;124m\"\u001b[39m\n\u001b[1;32m    294\u001b[0m     )\n\u001b[0;32m--> 296\u001b[0m indexes \u001b[38;5;241m=\u001b[39m \u001b[43mpinecone\u001b[49m\u001b[38;5;241;43m.\u001b[39;49m\u001b[43mlist_indexes\u001b[49m\u001b[43m(\u001b[49m\u001b[43m)\u001b[49m  \u001b[38;5;66;03m# checks if provided index exists\u001b[39;00m\n\u001b[1;32m    298\u001b[0m \u001b[38;5;28;01mif\u001b[39;00m index_name \u001b[38;5;129;01min\u001b[39;00m indexes:\n\u001b[1;32m    299\u001b[0m     index \u001b[38;5;241m=\u001b[39m pinecone\u001b[38;5;241m.\u001b[39mIndex(index_name)\n",
      "File \u001b[0;32m/opt/anaconda3/envs/mchatbot/lib/python3.8/site-packages/pinecone/deprecation_warnings.py:53\u001b[0m, in \u001b[0;36mlist_indexes\u001b[0;34m(*args, **kwargs)\u001b[0m\n\u001b[1;32m     42\u001b[0m \u001b[38;5;28;01mdef\u001b[39;00m \u001b[38;5;21mlist_indexes\u001b[39m(\u001b[38;5;241m*\u001b[39margs, \u001b[38;5;241m*\u001b[39m\u001b[38;5;241m*\u001b[39mkwargs):\n\u001b[1;32m     43\u001b[0m     example \u001b[38;5;241m=\u001b[39m \u001b[38;5;124m\"\"\"\u001b[39m\n\u001b[1;32m     44\u001b[0m \u001b[38;5;124m    from pinecone import Pinecone\u001b[39m\n\u001b[1;32m     45\u001b[0m \u001b[38;5;124m    \u001b[39m\n\u001b[0;32m   (...)\u001b[0m\n\u001b[1;32m     51\u001b[0m \u001b[38;5;124m        # do something\u001b[39m\n\u001b[1;32m     52\u001b[0m \u001b[38;5;124m\"\"\"\u001b[39m\n\u001b[0;32m---> 53\u001b[0m     \u001b[38;5;28;01mraise\u001b[39;00m \u001b[38;5;167;01mAttributeError\u001b[39;00m(_build_class_migration_message(\u001b[38;5;124m\"\u001b[39m\u001b[38;5;124mlist_indexes\u001b[39m\u001b[38;5;124m\"\u001b[39m, example))\n",
      "\u001b[0;31mAttributeError\u001b[0m: list_indexes is no longer a top-level attribute of the pinecone package.\n\nTo use list_indexes, please create a client instance and call the method there instead.\n\nExample:\n\n    from pinecone import Pinecone\n    \n    pc = Pinecone(api_key='YOUR_API_KEY')\n\n    index_name = \"quickstart\" # or your index name\n\n    if index_name not in pc.list_indexes().names():\n        # do something\n\n"
     ]
    }
   ],
   "source": [
    "from pinecone import Pinecone\n",
    "from langchain.vectorstores import Pinecone as PineconeLangchain\n",
    "\n",
    "# Initialize Pinecone client\n",
    "pc = Pinecone(api_key=PINECONE_API)\n",
    "\n",
    "index_name = \"medical-chatbot\"\n",
    "\n",
    "# Check if index exists using the new client\n",
    "if index_name not in pc.list_indexes().names():\n",
    "    # Create index if it doesn't exist\n",
    "    pc.create_index(\n",
    "        name=index_name,\n",
    "        dimension=1536,  # Must match your embeddings dimension\n",
    "        metric=\"cosine\",\n",
    "        spec=ServerlessSpec(\n",
    "            cloud=\"aws\",\n",
    "            region=\"us-west-2\"\n",
    "        )\n",
    "    )\n",
    "\n",
    "# LangChain integration - modified to use the new client\n",
    "docsearch = PineconeLangchain.from_texts(\n",
    "    texts=[t.page_content for t in text_chunks],\n",
    "    embedding=embeddings,\n",
    "    index_name=index_name,\n",
    "    pinecone_client=pc  # Pass the initialized client\n",
    ")"
   ]
  },
  {
   "cell_type": "code",
   "execution_count": null,
   "id": "00efaebc",
   "metadata": {},
   "outputs": [],
   "source": []
  }
 ],
 "metadata": {
  "kernelspec": {
   "display_name": "mchatbot",
   "language": "python",
   "name": "python3"
  },
  "language_info": {
   "codemirror_mode": {
    "name": "ipython",
    "version": 3
   },
   "file_extension": ".py",
   "mimetype": "text/x-python",
   "name": "python",
   "nbconvert_exporter": "python",
   "pygments_lexer": "ipython3",
   "version": "3.8.20"
  }
 },
 "nbformat": 4,
 "nbformat_minor": 5
}
